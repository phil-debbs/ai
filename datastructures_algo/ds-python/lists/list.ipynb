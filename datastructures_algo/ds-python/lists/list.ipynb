{
 "cells": [
  {
   "cell_type": "markdown",
   "metadata": {},
   "source": [
    "List\n",
    "List can contain elements of different types, eg integers, strings, etc and even other lists (nested list)\n",
    "\n",
    "They are accessed using index starting from zero (zero-based index)\n",
    "\n",
    "\n",
    "To create an array in Python, you can use \n",
    "-array module\n",
    "-Numpy"
   ]
  },
  {
   "cell_type": "code",
   "execution_count": 47,
   "metadata": {},
   "outputs": [],
   "source": [
    "#list operations\n",
    "\n",
    "shoppingList = ['Milk', 'Cheese', 'Butter', 'Bread', 'Corn']\n",
    "\n",
    "# #check if an element is in list\n",
    "# print('Milk' in shoppingList)\n",
    "\n",
    "# #traverve list\n",
    "# for i in shoppingList:\n",
    "#     print(i)\n",
    "\n",
    "# for i in range(len(shoppingList)):\n",
    "#     print(shoppingList[i])\n",
    "\n",
    "# ss = {'Milk', 'Cheese', 'Butter', 'Bread', 'Corn'}\n",
    "\n",
    "# s = set(shoppingList)\n",
    "# print(s)\n",
    "# print(ss)\n",
    "\n",
    "\n",
    "# #slice\n",
    "# print(shoppingList[0:])  #['Milk', 'Cheese', 'Butter', 'Bread', 'Corn']\n",
    "# print(shoppingList[:])   #['Milk', 'Cheese', 'Butter', 'Bread', 'Corn']\n",
    "\n",
    "# #update elements with slice\n",
    "# updated = shoppingList\n",
    "# updated[0:2] = ['Tea', 'Milo']\n",
    "# print(updated)   #['Tea', 'Milo', 'Butter', 'Bread', 'Corn']\n",
    "\n",
    "\n"
   ]
  },
  {
   "cell_type": "code",
   "execution_count": 62,
   "metadata": {},
   "outputs": [
    {
     "name": "stdout",
     "output_type": "stream",
     "text": [
      "['Milk', 'Cheese', 'Butter', 'Bread', 'Corn']\n",
      "['Milk', 'Bread', 'Corn']\n"
     ]
    }
   ],
   "source": [
    "#deleting elements\n",
    "print(shoppingList)\n",
    "# #pop  - returns the deleted element\n",
    "# print(updated.pop()) #deletes last item if no index is provided\n",
    "# print(updated)\n",
    "# print(updated.pop(2)) #deletes item at the provided index\n",
    "# print(updated)\n",
    "\n",
    "#del \n",
    "updated = shoppingList[:]\n",
    "del updated[1:3]\n",
    "# updated[1:3] = []   # remove items at indexes 1, 2 by replacing slice with empty list\n",
    "print(updated)\n",
    "\n",
    "# #remove - removes the provided element\n",
    "# updated = shoppingList[:]\n",
    "# updated.remove('Milk')\n",
    "# print(updated)"
   ]
  },
  {
   "cell_type": "code",
   "execution_count": 53,
   "metadata": {},
   "outputs": [
    {
     "name": "stdout",
     "output_type": "stream",
     "text": [
      "50 is in the list\n",
      "4\n"
     ]
    }
   ],
   "source": [
    "#searching\n",
    "\n",
    "myList = [10,20,30,40,50, 60,70,80,90]\n",
    "\n",
    "target = 50\n",
    "if target in myList:            #------> O(n)\n",
    "    print(f\"{target} is in the list\")  \n",
    "else:\n",
    "    print(f\"{target} is not in the list\")\n",
    "\n",
    "\n",
    "def linear_search(p_list, p_target):\n",
    "    for index, element in enumerate(p_list):  #enumerate enables to get the element and its index\n",
    "        if element ==  p_target:\n",
    "            return index\n",
    "    return -1\n",
    "\n",
    "print(linear_search(myList,target))"
   ]
  },
  {
   "cell_type": "markdown",
   "metadata": {},
   "source": [
    "#list comprehension \n",
    "\n",
    "new_list = [new_item for item in list]"
   ]
  },
  {
   "cell_type": "code",
   "execution_count": 67,
   "metadata": {},
   "outputs": [
    {
     "name": "stdout",
     "output_type": "stream",
     "text": [
      "[2, 4, 6]\n",
      "['P', 'y', 't', 'h', 'o', 'n']\n"
     ]
    }
   ],
   "source": [
    "prev_list = [1,2,3]\n",
    "new_list = [i * 2 for i in prev_list]\n",
    "print(new_list)\n",
    "\n",
    "language = \"Python\"\n",
    "newL = [letter for letter in language]\n",
    "print(newL)"
   ]
  },
  {
   "cell_type": "markdown",
   "metadata": {},
   "source": [
    "new_list = [new_item for item in list if condition]\n",
    "\n",
    "OR\n",
    "\n",
    "new_list = [new_item  if condition else value for item in list]\n",
    "\n",
    "condition can be a function"
   ]
  },
  {
   "cell_type": "code",
   "execution_count": 69,
   "metadata": {},
   "outputs": [
    {
     "name": "stdout",
     "output_type": "stream",
     "text": [
      "[100, 400, 3600, 4900]\n"
     ]
    }
   ],
   "source": [
    "prev_list = [-10,-20,30,40,50, -60,-70,80,90]\n",
    "# new_list = [i for i in prev_list if i > 0]\n",
    "new_list = [i * i for i in prev_list if i < 0]\n",
    "print(new_list)"
   ]
  },
  {
   "cell_type": "code",
   "execution_count": 71,
   "metadata": {},
   "outputs": [
    {
     "name": "stdout",
     "output_type": "stream",
     "text": [
      "[1, 4, 7]\n"
     ]
    }
   ],
   "source": [
    "a = [1,2,3,4,5,6,7,8,9]\n",
    "print(a[::3])"
   ]
  },
  {
   "cell_type": "markdown",
   "metadata": {},
   "source": [
    "[[1, 2], [3, 4]]\n",
    "v = 4\n",
    "\n",
    "[[1, 2], [3, 4]]"
   ]
  },
  {
   "cell_type": "code",
   "execution_count": 73,
   "metadata": {},
   "outputs": [
    {
     "name": "stdout",
     "output_type": "stream",
     "text": [
      "[10, 2, 20, 4, 30, 6, 40, 8, 50, 10, 60]\n"
     ]
    }
   ],
   "source": [
    "a=[1,2,3,4,5,6,7,8,9,10,11]\n",
    "a[::2]=10,20,30,40,50,60\n",
    "print(a)"
   ]
  },
  {
   "cell_type": "code",
   "execution_count": 79,
   "metadata": {},
   "outputs": [
    {
     "name": "stdout",
     "output_type": "stream",
     "text": [
      "[2, 3, 4, 5, 6, 6]\n"
     ]
    }
   ],
   "source": [
    "arr = [1, 2, 3, 4, 5, 6]\n",
    "for i in range(1, 6):\n",
    "    arr[i - 1] = arr[i]\n",
    "\n",
    "print(arr)\n",
    "\n",
    "for i in range(0, 6): \n",
    "    print(arr[i], end = \" \")"
   ]
  },
  {
   "cell_type": "code",
   "execution_count": null,
   "metadata": {},
   "outputs": [],
   "source": []
  }
 ],
 "metadata": {
  "kernelspec": {
   "display_name": "Python 3",
   "language": "python",
   "name": "python3"
  },
  "language_info": {
   "codemirror_mode": {
    "name": "ipython",
    "version": 3
   },
   "file_extension": ".py",
   "mimetype": "text/x-python",
   "name": "python",
   "nbconvert_exporter": "python",
   "pygments_lexer": "ipython3",
   "version": "3.11.9"
  }
 },
 "nbformat": 4,
 "nbformat_minor": 2
}
