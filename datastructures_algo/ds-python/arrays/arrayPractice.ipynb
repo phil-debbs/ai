{
 "cells": [
  {
   "cell_type": "markdown",
   "metadata": {},
   "source": [
    "Arrays\n",
    "Arrays must contain elements of the same type, eg array of integers, strings etc\n",
    "They are stored contiguously in memory.\n",
    "They are accessed using index starting from zero (zero-based index)\n",
    "\n",
    "Types of arrays\n",
    "-One-dimensional array (col). Access is [col-index]\n",
    "[2, 3, 5, 7]\n",
    "\n",
    "-Two-dimentional arrays (row, col) This is like stacks of 1D arrays. Access is [row-index, col-index]\n",
    "[2, 3, 5, 7]\n",
    "[9, 7, 8, 1]\n",
    "\n",
    "-Three-dimensioanl arrays (depth, row, col) This is like cascades of 2D arrays. Access is [depth-index, row-index, col-index]\n",
    "[2, 3, 5, 7]]]\n",
    "[9, 7, 8, 1]]]\n",
    "\n",
    "-N-dimensional arrays\n",
    "\n",
    "\n",
    "To create an array in Python, you can use \n",
    "-array module\n",
    "-Numpy"
   ]
  },
  {
   "cell_type": "code",
   "execution_count": 1,
   "metadata": {},
   "outputs": [
    {
     "name": "stdout",
     "output_type": "stream",
     "text": [
      "array('i')\n",
      "array('i', [1, 2, 3, 4])\n"
     ]
    }
   ],
   "source": [
    "#using array module\n",
    "from array import array\n",
    "\n",
    "'''\n",
    "NOTE: This is an inbuilt python module and supports only basic (primitive) data types\n",
    "'''\n",
    "#array.array(typecode[, initializer])\n",
    "# Time & space complexity: empty array is O(1), non-empty array is O(n)\n",
    "my_array = array('i') #the 'i' specifies the type of elements in the array, in this case array of integers. This array has length of zero\n",
    "print(my_array)\n",
    "#define an array with initial elements\n",
    "my_array = array('i', [1,2,3,4])\n",
    "print(my_array)\n"
   ]
  },
  {
   "cell_type": "code",
   "execution_count": 2,
   "metadata": {},
   "outputs": [
    {
     "name": "stdout",
     "output_type": "stream",
     "text": [
      "0\n"
     ]
    }
   ],
   "source": [
    "#count the number of occurences of an element\n",
    "\n",
    "print(my_array.count(9))"
   ]
  },
  {
   "cell_type": "code",
   "execution_count": 3,
   "metadata": {},
   "outputs": [
    {
     "name": "stdout",
     "output_type": "stream",
     "text": [
      "[1, 2, 3, 4]\n"
     ]
    }
   ],
   "source": [
    "print(my_array.tolist())"
   ]
  },
  {
   "cell_type": "code",
   "execution_count": 11,
   "metadata": {},
   "outputs": [
    {
     "name": "stdout",
     "output_type": "stream",
     "text": [
      "\n",
      "Average =  17.0\n",
      "3 days above average of 17.0\n"
     ]
    }
   ],
   "source": [
    "#Average temperature\n",
    "\n",
    "numDays = int(input(\"How many days temp?\"))\n",
    "\n",
    "# dayTemps = array('i',[10,20,30,40])\n",
    "dayTemps = array('i',[10,20,30,40])\n",
    "for i in range(numDays):\n",
    "    dayTem = int(input(f\"Highest temp for day {i + 1}\"))\n",
    "    dayTemps.append(dayTem)\n",
    "\n",
    "\n",
    "avgTemp = sum(dayTemps)/len(dayTemps)\n",
    "\n",
    "print(\"\\nAverage = \", round(avgTemp,2))\n",
    "\n",
    "aboveAvg = 0\n",
    "for temp in dayTemps:\n",
    "    if temp > avgTemp:\n",
    "        aboveAvg += 1\n",
    "\n",
    "print(f\"{aboveAvg} days above average of {avgTemp}\")"
   ]
  },
  {
   "cell_type": "code",
   "execution_count": 13,
   "metadata": {},
   "outputs": [
    {
     "name": "stdout",
     "output_type": "stream",
     "text": [
      "5.0\n"
     ]
    }
   ],
   "source": [
    "#find missing number\n",
    "\n",
    "def findMissing(arr, n):\n",
    "    sum1= n*(n+1)/2\n",
    "    sum2= sum(arr)\n",
    "    print(sum1-sum2)\n",
    "\n",
    "findMissing([1,2,3,4,6],6)"
   ]
  },
  {
   "cell_type": "markdown",
   "metadata": {},
   "source": [
    "#Two Sum\n",
    "We want to check whether the sum of two numbers in a list is equal to a target.\n",
    "This means that each number is a potential complement to another number in the list.\n",
    "Once a complement for a chosen number is found, then two such pairs have been found.\n",
    "So we start by testing to see if we have already seen the complement of the current number.\n",
    "This therefore demands that we have a list of numbers we have traversed already.\n",
    "However, we have to find a data structure with smaller time complexity for accessing items.\n",
    "In this case, a dictionary would be best so that the already seen numbers are used as keys and their index are used as values.\n",
    "\n",
    "Eg arr = [2,6,3,9,11]  target = 9\n",
    "\n",
    "#define a complement dictionary\n",
    "complement = {}\n",
    "\n",
    "for i = 0, a = 2\n",
    "#put a into complement dict\n",
    "complement[a] = i   #  --> complement = {2:0}\n",
    "#determine if complement of a is in the complement dict\n",
    "comp = target - a #---> 9 - 2 = 7\n",
    "if comp in complement:  # false\n",
    "    print(comp, a)\n",
    "\n",
    "#repeat for i + 1\n",
    "for i = 1, a = 6\n",
    "#put a into complement dict\n",
    "complement[a] = i #--> complement = {2:0, 6:1}\n",
    "#determine if complement of a is in the complement dict\n",
    "comp = target - a #---> 9 - 6 = 3\n",
    "if comp in complement:  # false\n",
    "    print(comp, a)\n",
    "\n",
    "#repeat for i + 1\n",
    "for i = 2, a = 3\n",
    "#put a into complement dict\n",
    "complement[a] = i #--> complement = {2:0, 6:1, 3:2}\n",
    "#determine if complement of a is in the complement dict\n",
    "comp = target - a #---> 9 - 3 = 6\n",
    "if comp in complement:  # true\n",
    "    print(comp, a)   # -----> [{6:1}, {3:2}]\n",
    "\n",
    "\n",
    "#repeat for i + 1\n",
    "for i = 3, a = 9\n",
    "#put a into complement dict\n",
    "complement[a] = i #--> complement = {2:0, 6:1, 3:2, 9:3}\n",
    "#determine if complement of a is in the complement dict\n",
    "comp = target - a #---> 9 - 9 = 0\n",
    "if comp in complement:  # false\n",
    "    print(comp, a)   \n",
    "\n",
    "\n",
    "#repeat for i + 1\n",
    "for i = 4, a = 11\n",
    "#put a into complement dict\n",
    "complement[a] = i #--> complement = {2:0, 6:1, 3:2, 9:3, 11:4}\n",
    "#determine if complement of a is in the complement dict\n",
    "comp = target - a #---> 9 - 11 = -2\n",
    "if comp in complement:  # false\n",
    "    print(comp, a)   \n",
    "\n",
    "stop"
   ]
  },
  {
   "cell_type": "code",
   "execution_count": 79,
   "metadata": {},
   "outputs": [
    {
     "name": "stdout",
     "output_type": "stream",
     "text": [
      "['a', 'b', 'c']\n",
      "['d', 'e', 'f']\n",
      "['g', 'h', 'i']\n",
      "-------------------------\n",
      "\n",
      "2\n",
      "0\n",
      "2\n",
      "['g', 'b', 'c']\n",
      "['d', 'e', 'f']\n",
      "['a', 'h', 'i']\n",
      "\n",
      "\n",
      "0\n",
      "0\n",
      "1\n",
      "['g', 'd', 'c']\n",
      "['b', 'e', 'f']\n",
      "['a', 'h', 'i']\n",
      "\n",
      "\n",
      "1\n",
      "0\n",
      "0\n",
      "['c', 'd', 'g']\n",
      "['b', 'e', 'f']\n",
      "['a', 'h', 'i']\n",
      "\n",
      "\n",
      "2\n",
      "1\n",
      "2\n",
      "['c', 'd', 'g']\n",
      "['h', 'e', 'f']\n",
      "['a', 'b', 'i']\n",
      "\n",
      "\n",
      "0\n",
      "1\n",
      "1\n",
      "['c', 'd', 'g']\n",
      "['h', 'e', 'f']\n",
      "['a', 'b', 'i']\n",
      "\n",
      "\n",
      "1\n",
      "1\n",
      "0\n",
      "['c', 'f', 'g']\n",
      "['h', 'e', 'd']\n",
      "['a', 'b', 'i']\n",
      "\n",
      "\n",
      "2\n",
      "2\n",
      "2\n",
      "['c', 'f', 'g']\n",
      "['h', 'e', 'd']\n",
      "['i', 'b', 'a']\n",
      "\n",
      "\n",
      "0\n",
      "2\n",
      "1\n",
      "['c', 'f', 'g']\n",
      "['h', 'e', 'b']\n",
      "['i', 'd', 'a']\n",
      "\n",
      "\n",
      "1\n",
      "2\n",
      "0\n",
      "['c', 'f', 'a']\n",
      "['h', 'e', 'b']\n",
      "['i', 'd', 'g']\n",
      "\n",
      "\n"
     ]
    }
   ],
   "source": [
    "arr = [[\"a\",\"b\",\"c\"],[\"d\",\"e\",\"f\"],[\"g\",\"h\",\"i\"]]\n",
    "# arr = [[1,2,3],[4,5,6],[7,8,9]]\n",
    "[print(ar,end=\"\\n\") for ar in arr]\n",
    "print(\"-------------------------\\n\")\n",
    "# for i in range(8,-1,-1):\n",
    "for i in range(9):\n",
    "    r=i//3\n",
    "    print (c)\n",
    "    c=i%3\n",
    "    print(r)\n",
    "    n=2-c\n",
    "    print(n)\n",
    "    temp = arr[r][c]\n",
    "    arr[r][c]=arr[n][r]\n",
    "    arr[n][r] = temp    \n",
    "    [print(ar,end=\"\\n\") for ar in arr]\n",
    "    print(\"\\n\")\n",
    "# print(arr)"
   ]
  }
 ],
 "metadata": {
  "kernelspec": {
   "display_name": "Python 3",
   "language": "python",
   "name": "python3"
  },
  "language_info": {
   "codemirror_mode": {
    "name": "ipython",
    "version": 3
   },
   "file_extension": ".py",
   "mimetype": "text/x-python",
   "name": "python",
   "nbconvert_exporter": "python",
   "pygments_lexer": "ipython3",
   "version": "3.11.9"
  }
 },
 "nbformat": 4,
 "nbformat_minor": 2
}
