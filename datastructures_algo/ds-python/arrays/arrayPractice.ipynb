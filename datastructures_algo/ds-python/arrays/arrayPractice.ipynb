{
 "cells": [
  {
   "cell_type": "markdown",
   "metadata": {},
   "source": [
    "Arrays\n",
    "Arrays must contain elements of the same type, eg array of integers, strings etc\n",
    "They are stored contiguously in memory.\n",
    "They are accessed using index starting from zero (zero-based index)\n",
    "\n",
    "Types of arrays\n",
    "-One-dimensional array (col). Access is [col-index]\n",
    "[2, 3, 5, 7]\n",
    "\n",
    "-Two-dimentional arrays (row, col) This is like stacks of 1D arrays. Access is [row-index, col-index]\n",
    "[2, 3, 5, 7]\n",
    "[9, 7, 8, 1]\n",
    "\n",
    "-Three-dimensioanl arrays (depth, row, col) This is like cascades of 2D arrays. Access is [depth-index, row-index, col-index]\n",
    "[2, 3, 5, 7]]]\n",
    "[9, 7, 8, 1]]]\n",
    "\n",
    "-N-dimensional arrays\n",
    "\n",
    "\n",
    "To create an array in Python, you can use \n",
    "-array module\n",
    "-Numpy"
   ]
  },
  {
   "cell_type": "code",
   "execution_count": 12,
   "metadata": {},
   "outputs": [
    {
     "name": "stdout",
     "output_type": "stream",
     "text": [
      "array('i')\n",
      "array('i', [1, 2, 3, 4])\n"
     ]
    }
   ],
   "source": [
    "#using array module\n",
    "from array import array\n",
    "\n",
    "'''\n",
    "NOTE: This is an inbuilt python module and supports only basic (primitive) data types\n",
    "'''\n",
    "#array.array(typecode[, initializer])\n",
    "# Time & space complexity: empty array is O(1), non-empty array is O(n)\n",
    "my_array = array('i') #the 'i' specifies the type of elements in the array, in this case array of integers. This array has length of zero\n",
    "print(my_array)\n",
    "#define an array with initial elements\n",
    "my_array = array('i', [1,2,3,4])\n",
    "print(my_array)\n"
   ]
  },
  {
   "cell_type": "code",
   "execution_count": 13,
   "metadata": {},
   "outputs": [
    {
     "name": "stdout",
     "output_type": "stream",
     "text": [
      "0\n"
     ]
    }
   ],
   "source": [
    "#count the number of occurences of an element\n",
    "\n",
    "print(my_array.count(9))"
   ]
  },
  {
   "cell_type": "code",
   "execution_count": 14,
   "metadata": {},
   "outputs": [
    {
     "name": "stdout",
     "output_type": "stream",
     "text": [
      "[1, 2, 3, 4]\n"
     ]
    }
   ],
   "source": [
    "print(my_array.tolist())"
   ]
  }
 ],
 "metadata": {
  "kernelspec": {
   "display_name": "Python 3",
   "language": "python",
   "name": "python3"
  },
  "language_info": {
   "codemirror_mode": {
    "name": "ipython",
    "version": 3
   },
   "file_extension": ".py",
   "mimetype": "text/x-python",
   "name": "python",
   "nbconvert_exporter": "python",
   "pygments_lexer": "ipython3",
   "version": "3.11.9"
  }
 },
 "nbformat": 4,
 "nbformat_minor": 2
}
