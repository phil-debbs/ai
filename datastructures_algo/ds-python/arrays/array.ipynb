{
 "cells": [
  {
   "cell_type": "markdown",
   "metadata": {},
   "source": [
    "Arrays\n",
    "Arrays must contain elements of the same type, eg array of integers, strings etc\n",
    "They are stored contiguously in memory.\n",
    "They are accessed using index starting from zero (zero-based index)\n",
    "\n",
    "Types of arrays\n",
    "-One-dimensional array (col). Access is [col-index]\n",
    "[2, 3, 5, 7]\n",
    "\n",
    "-Two-dimentional arrays (row, col) This is like stacks of 1D arrays. Access is [row-index, col-index]\n",
    "[2, 3, 5, 7]\n",
    "[9, 7, 8, 1]\n",
    "\n",
    "-Three-dimensioanl arrays (depth, row, col) This is like cascades of 2D arrays. Access is [depth-index, row-index, col-index]\n",
    "[2, 3, 5, 7]]]\n",
    "[9, 7, 8, 1]]]\n",
    "\n",
    "-N-dimensional arrays\n",
    "\n",
    "\n",
    "To create an array in Python, you can use \n",
    "-array module\n",
    "-Numpy"
   ]
  },
  {
   "cell_type": "code",
   "execution_count": 30,
   "metadata": {},
   "outputs": [
    {
     "name": "stdout",
     "output_type": "stream",
     "text": [
      "array('i')\n",
      "array('i', [1, 2, 3, 4])\n"
     ]
    }
   ],
   "source": [
    "#using array module\n",
    "import array\n",
    "\n",
    "'''\n",
    "NOTE: This is an inbuilt python module and supports only basic (primitive) data types\n",
    "'''\n",
    "#array.array(typecode[, initializer])\n",
    "# Time & space complexity: empty array is O(1), non-empty array is O(n)\n",
    "my_array = array.array('i') #the 'i' specifies the type of elements in the array, in this case array of integers. This array has length of zero\n",
    "print(my_array)\n",
    "#define an array with initial elements\n",
    "my_array = array.array('i', [1,2,3,4])\n",
    "print(my_array)\n"
   ]
  },
  {
   "cell_type": "code",
   "execution_count": 31,
   "metadata": {},
   "outputs": [
    {
     "name": "stdout",
     "output_type": "stream",
     "text": [
      "[1 2 3 4]\n"
     ]
    }
   ],
   "source": [
    "#using numpy\n",
    "import numpy as np\n",
    "\n",
    "np_array = np.array([], dtype=int) #creates an empty array whose data type is integers\n",
    "\n",
    "#when you specify the array elements during declaration of the array in numpy, you dont need to specify the data types as it is implicitly inferred from the elements\n",
    "np_array = np.array([1,2,3,4]) #creates an array with elements 1,2,3,4\n",
    "print(np_array)"
   ]
  },
  {
   "cell_type": "code",
   "execution_count": 32,
   "metadata": {},
   "outputs": [
    {
     "name": "stdout",
     "output_type": "stream",
     "text": [
      "array('i', [8, 1, 2, 3, 4])\n",
      "array('i', [8, 1, 2, 9, 3, 4])\n",
      "array('i', [8, 1, 2, 9, 3, 4, 5])\n"
     ]
    }
   ],
   "source": [
    "#insert an element\n",
    "# Time & space complexity: time is O(n), space is O(1)\n",
    "my_array.insert(0, 8)\n",
    "print(my_array)\n",
    "\n",
    "my_array.insert(3, 9)\n",
    "print(my_array)\n",
    "\n",
    "#NOTE: if you specify an index that is greater than the size of the array, it will ignore and simply append to the array\n",
    "my_array.insert(20, 5) #insert at index 20\n",
    "print(my_array)"
   ]
  },
  {
   "cell_type": "code",
   "execution_count": 33,
   "metadata": {},
   "outputs": [
    {
     "name": "stdout",
     "output_type": "stream",
     "text": [
      "8\n",
      "1\n",
      "2\n",
      "9\n",
      "3\n",
      "4\n",
      "5\n"
     ]
    }
   ],
   "source": [
    "#array traversal: visiting all elements in the array\n",
    "# Time & space complexity: time is O(n), space is O(1)\n",
    "\n",
    "#define a simple function to taverse the array\n",
    "def traversearray(array):\n",
    "    for i in array:\n",
    "        print(i)\n",
    "\n",
    "traversearray(my_array)"
   ]
  },
  {
   "cell_type": "code",
   "execution_count": 34,
   "metadata": {},
   "outputs": [
    {
     "name": "stdout",
     "output_type": "stream",
     "text": [
      "1\n",
      "There is no element at index 10.\n"
     ]
    }
   ],
   "source": [
    "#access an element\n",
    "# Time & space complexity: time is O(1), space is O(1)\n",
    "\n",
    "def accessElement(array, index):\n",
    "    if index >= len(array):\n",
    "        print(f'There is no element at index {index}.')\n",
    "    else:        \n",
    "        print(array[index])\n",
    "\n",
    "accessElement(my_array, 1)\n",
    "accessElement(my_array, 10)"
   ]
  },
  {
   "cell_type": "code",
   "execution_count": 35,
   "metadata": {},
   "outputs": [
    {
     "data": {
      "text/plain": [
       "-1"
      ]
     },
     "execution_count": 35,
     "metadata": {},
     "output_type": "execute_result"
    }
   ],
   "source": [
    "#search an element\n",
    "# Time & space complexity: time is O(n), space is O(1)\n",
    "\n",
    "def linearSearch(array, target):\n",
    "    for i in range(len(array)): #------O(n)\n",
    "        if array[i] == target:  #------o(1)\n",
    "            return i\n",
    "    return -1\n",
    "\n",
    "linearSearch(my_array, 8)\n",
    "linearSearch(my_array, 80)"
   ]
  },
  {
   "cell_type": "code",
   "execution_count": 36,
   "metadata": {},
   "outputs": [
    {
     "name": "stdout",
     "output_type": "stream",
     "text": [
      "array('i', [8, 1, 2, 9, 3, 4, 5])\n",
      "array('i', [8, 1, 2, 9, 3, 5])\n"
     ]
    }
   ],
   "source": [
    "#delete/remove element\n",
    "# Time & space complexity: time is O(n), space is O(1)\n",
    "\n",
    "print(my_array)\n",
    "my_array.remove(4) #this removes the first occurance of the element, not the index. So this removes the first occurence of 4\n",
    "print(my_array)"
   ]
  },
  {
   "cell_type": "code",
   "execution_count": 37,
   "metadata": {},
   "outputs": [
    {
     "name": "stdout",
     "output_type": "stream",
     "text": [
      "['2+5', '4+3', '3+4', '-2+9']\n"
     ]
    }
   ],
   "source": [
    "def pair_sum(arr, target_sum):\n",
    "    result = []\n",
    "    for i in range(len(arr)):\n",
    "        for j in range(i+1, len(arr)):\n",
    "            if arr[i] + arr[j] == target_sum:\n",
    "                result.append(f\"{arr[i]}+{arr[j]}\")\n",
    "    return result\n",
    " \n",
    "arr = [2, 4, 3, 5, 6, -2, 4, 7, 8, 9]\n",
    "target_sum = 7\n",
    "print(pair_sum(arr, target_sum))  # Output: ['2+5', '4+3', '3+4', '-2+9']"
   ]
  }
 ],
 "metadata": {
  "kernelspec": {
   "display_name": "Python 3",
   "language": "python",
   "name": "python3"
  },
  "language_info": {
   "codemirror_mode": {
    "name": "ipython",
    "version": 3
   },
   "file_extension": ".py",
   "mimetype": "text/x-python",
   "name": "python",
   "nbconvert_exporter": "python",
   "pygments_lexer": "ipython3",
   "version": "3.11.9"
  }
 },
 "nbformat": 4,
 "nbformat_minor": 2
}
