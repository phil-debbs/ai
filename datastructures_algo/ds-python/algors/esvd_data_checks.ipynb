{
 "cells": [
  {
   "cell_type": "code",
   "execution_count": null,
   "metadata": {},
   "outputs": [],
   "source": [
    "import pandas as pd\n",
    "# import openpyxl\n",
    "# import os\n",
    "\n",
    "# patt = \"F:\\Projects\\CoCap\\Esvd updates\\ESVD updated dataset\\ESVDAPRIL2024V1.0.xlsx\"\n",
    "# print(os.path.dirname(\"F:\\Projects\\CoCap\\Esvd updates\\ESVD updated dataset\\ESVDAPRIL2024V1.0 (1).xlsx\"))\n",
    "# read by default 1st sheet of an excel file\n",
    "# try:\n",
    "    # dataframe1 = pd.read_excel(\"ESVDAPRIL2024V1.0.xlsx\")\n",
    "# df2024 = pd.read_excel(\"ESVDAPRIL2024.xlsx\", sheet_name=\"ESVD MASTER 230413\")\n",
    "# df2023 = pd.read_excel(\"ESVDMAY2023.xlsx\", sheet_name=\"ESVD MASTER 230413\")\n",
    "# dfVsl = pd.read_csv(\"Vsl_Data_8th-May-2024_08-30-52.csv\")\n",
    "# dfVsl = pd.read_csv(\"original_vsl_file.csv\")\n",
    "# dfVsl = pd.read_excel(\"original_vsl_file.xlsx\")\n",
    "dfVsl = pd.read_excel(\"vslFromCurrentStaging-08-may-2024.xlsx\")\n",
    "    # dataframe1 = pd.read_csv(\"Book1.csv\")\n",
    "# except ImportError as err:\n",
    "    # print(err.msg)\n",
    "# import xlwings as xw\n",
    "# import xlwings as xw\n",
    " \n",
    "# # Specifying a sheet\n",
    "# ws = xw.Book(\"Book2.xlsx\").sheets['Sheet1']\n",
    "\n",
    "# read by default 1st sheet of an excel file\n",
    "# dataframe1 = pd.read_excel(os.path.join(os.path.dirname(__file__), \"ESVDAPRIL2024V1.0 (1).xlsx\"), sheet_name=\"ESVD MASTER 230413\")"
   ]
  },
  {
   "cell_type": "code",
   "execution_count": null,
   "metadata": {},
   "outputs": [],
   "source": [
    "print(dfVsl.info())"
   ]
  },
  {
   "cell_type": "code",
   "execution_count": null,
   "metadata": {},
   "outputs": [],
   "source": [
    "# print(dfVsl[\"Biomes\"])\n",
    "# print(dfVsl[\"Biome_Code\"])\n",
    "print(dfVsl[\"BiomeCodes\"])\n",
    "print(dfVsl[\"BiomeCodes\"])"
   ]
  },
  {
   "cell_type": "code",
   "execution_count": null,
   "metadata": {},
   "outputs": [],
   "source": [
    "import re\n",
    "# print(dfVsl.info())\n",
    "# dfCountry = dfVsl[\"Biomes\"]\n",
    "# dfCountry = dfVsl[\"Biome_Code\"]\n",
    "dfCountry = dfVsl[\"BiomeCodes\"]\n",
    "# dfCountry = dfCountry.sort_values(ascending=True)\n",
    "# dfCountry.to_csv('sub_dataset_main.csv')\n",
    "dfCountry.to_csv('sub_datasetStagingVsl_main.csv')\n",
    "\n",
    "pattern = re.compile(r\"(?:^1{1}$)|(\\b1\\b)\") #^1{1}$\n",
    "lst = [x for x in dfCountry if pattern.search(str(x).lower())] #and len(x) == 1\n",
    "df = pd.DataFrame(lst, columns=['biomes'])\n",
    "print(len(df))\n",
    "print(df)\n",
    "df.to_csv('sub_datasetStagingVsl_filter1.csv')\n"
   ]
  },
  {
   "cell_type": "code",
   "execution_count": null,
   "metadata": {},
   "outputs": [],
   "source": [
    "import re\n",
    "# print(dfVsl.info())\n",
    "# dfCountry = dfVsl[\"Country_Code\"]\n",
    "dfCountry = dfVsl[\"CountryCodes\"]\n",
    "dfCountry = dfCountry.sort_values(ascending=True)\n",
    "pattern = re.compile(r\"(?:^usa{1}$)\") #^1{1}$\n",
    "lst = [x for x in dfCountry if pattern.search(str(x).lower())] #and len(x) == 1\n",
    "df = pd.DataFrame(lst, columns=['Countries'])\n",
    "print(len(df))\n",
    "print(df)\n",
    "df.to_csv('sub_datasetStagingVsl_filter_usa.csv')\n",
    "# countUSA = 0\n",
    "# for x in dfCountry:\n",
    "#     matches = pattern.search(str(x).lower())\n",
    "#     if matches != None and matches.group():\n",
    "#     # if '1' == str(x).lower():\n",
    "#         print(matches.group())\n",
    "#         countUSA += 1\n",
    "# # dfUSA =  [re.search(r'USA|usa','', str(x)) for x in dfCountry]\n",
    "# print(countUSA)"
   ]
  },
  {
   "cell_type": "code",
   "execution_count": null,
   "metadata": {},
   "outputs": [],
   "source": [
    "df2024.columns\n",
    "# df2023.info()\n"
   ]
  },
  {
   "cell_type": "code",
   "execution_count": null,
   "metadata": {},
   "outputs": [],
   "source": [
    "df2023.columns"
   ]
  },
  {
   "cell_type": "code",
   "execution_count": null,
   "metadata": {},
   "outputs": [],
   "source": [
    "# df2024.compare(df2023)\n",
    "df2024.corrwith(df2023)"
   ]
  },
  {
   "cell_type": "code",
   "execution_count": null,
   "metadata": {},
   "outputs": [],
   "source": [
    "df2024.sort_index(inplace=True)\n",
    "df2023.sort_index(inplace=True)"
   ]
  },
  {
   "cell_type": "code",
   "execution_count": null,
   "metadata": {},
   "outputs": [],
   "source": [
    "df1 = df2024['Biome']\n",
    "df2 = df2023['Biome']\n",
    "diff = pd.concat([df1,df2]).drop_duplicates( keep=False)\n",
    "print(diff)"
   ]
  },
  {
   "cell_type": "code",
   "execution_count": null,
   "metadata": {},
   "outputs": [],
   "source": [
    "df2024['ValueID'].compare(df2023['ValueID'])"
   ]
  }
 ],
 "metadata": {
  "kernelspec": {
   "display_name": "Python 3",
   "language": "python",
   "name": "python3"
  },
  "language_info": {
   "codemirror_mode": {
    "name": "ipython",
    "version": 3
   },
   "file_extension": ".py",
   "mimetype": "text/x-python",
   "name": "python",
   "nbconvert_exporter": "python",
   "pygments_lexer": "ipython3",
   "version": "3.11.9"
  }
 },
 "nbformat": 4,
 "nbformat_minor": 2
}
