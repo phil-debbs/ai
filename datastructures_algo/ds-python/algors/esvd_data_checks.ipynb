{
 "cells": [
  {
   "cell_type": "code",
   "execution_count": null,
   "metadata": {},
   "outputs": [],
   "source": [
    "import pandas as pd\n",
    "\n",
    "df2024 = pd.read_excel(\"ESVDAPRIL2024.xlsx\", sheet_name=\"ESVD MASTER 230413\")\n",
    "df2023 = pd.read_excel(\"ESVDMAY2023.xlsx\", sheet_name=\"ESVD MASTER 230413\")\n"
   ]
  },
  {
   "cell_type": "code",
   "execution_count": null,
   "metadata": {},
   "outputs": [],
   "source": [
    "print(df2024.columns)\n",
    "print(df2023.columns)"
   ]
  },
  {
   "cell_type": "code",
   "execution_count": 88,
   "metadata": {},
   "outputs": [
    {
     "name": "stdout",
     "output_type": "stream",
     "text": [
      "666\n",
      "643\n",
      "25\n"
     ]
    }
   ],
   "source": [
    "usa24 = df2024[df2024['Country_Code'].apply(lambda a: 'usa' in a.lower())] # same as preceding line, but without converting to list\n",
    "usa23 = df2023[df2023['Country_Code'].apply(lambda a: 'usa' in a.lower())] # same as preceding line, but without converting to list\n",
    "diff1 = usa24[~(usa24['ValueID'].isin(usa23['ValueID']))] # get values in usa24 not in usa23\n",
    "print(len(usa24))\n",
    "print(len(usa23))\n",
    "print(len(diff1))"
   ]
  },
  {
   "cell_type": "code",
   "execution_count": 114,
   "metadata": {},
   "outputs": [
    {
     "name": "stdout",
     "output_type": "stream",
     "text": [
      "3888\n",
      "172\n",
      "1265\n",
      "2623\n",
      "CountryCodes\n",
      "USA                        0.093714\n",
      "DEU                        0.086857\n",
      "GBR                        0.049714\n",
      "NLD                        0.049143\n",
      "CHN                        0.041143\n",
      "                             ...   \n",
      "SVK                        0.000571\n",
      "POL; LTU; BLR              0.000571\n",
      "ALB                        0.000571\n",
      "MNE                        0.000571\n",
      "BEN; GIN; MLI; NER; NGA    0.000571\n",
      "Name: proportion, Length: 180, dtype: float64\n",
      "180\n"
     ]
    }
   ],
   "source": [
    "dfVsl = pd.read_excel(\"vslFromCurrentStaging-08-may-2024.xlsx\", sheet_name=\"Sheet1\")\n",
    "vslUSA = dfVsl[dfVsl['CountryCodes'].apply(lambda a: 'usa' in str(a).lower())]\n",
    "vslNotNull = dfVsl[~(dfVsl['StudyId'].isnull())]\n",
    "vslNull = dfVsl[dfVsl['StudyId'].isnull()]\n",
    "print(len(dfVsl))\n",
    "print(len(vslUSA))\n",
    "print(len(vslNotNull))\n",
    "print(len(vslNull))\n",
    "# print(dfVsl['CountryCodes'].unique()) # returns unique values\n",
    "print(dfVsl['CountryCodes'].value_counts(normalize=True, dropna=True)) # returns unique values and their counts\n",
    "print(dfVsl['CountryCodes'].nunique()) # return the number of unique values as either an int or a Series"
   ]
  },
  {
   "cell_type": "code",
   "execution_count": null,
   "metadata": {},
   "outputs": [],
   "source": [
    "import re\n",
    "# print(dfVsl.info())\n",
    "# dfCountry = dfVsl[\"Biomes\"]\n",
    "# dfCountry = dfVsl[\"Biome_Code\"]\n",
    "dfCountry = dfVsl[\"BiomeCodes\"]\n",
    "# dfCountry = dfCountry.sort_values(ascending=True)\n",
    "# dfCountry.to_csv('sub_dataset_main.csv')\n",
    "dfCountry.to_csv('sub_datasetStagingVsl_main.csv')\n",
    "\n",
    "pattern = re.compile(r\"(?:^1{1}$)|(\\b1\\b)\") #^1{1}$\n",
    "lst = [x for x in dfCountry if pattern.search(str(x).lower())] #and len(x) == 1\n",
    "df = pd.DataFrame(lst, columns=['biomes'])\n",
    "print(len(df))\n",
    "print(df)\n",
    "df.to_csv('sub_datasetStagingVsl_filter1.csv')\n"
   ]
  },
  {
   "cell_type": "code",
   "execution_count": null,
   "metadata": {},
   "outputs": [],
   "source": [
    "import re\n",
    "# print(dfVsl.info())\n",
    "# dfCountry = dfVsl[\"Country_Code\"]\n",
    "dfCountry = dfVsl[\"CountryCodes\"]\n",
    "dfCountry = dfCountry.sort_values(ascending=True)\n",
    "pattern = re.compile(r\"(?:^usa{1}$)\") #^1{1}$\n",
    "lst = [x for x in dfCountry if pattern.search(str(x).lower())] #and len(x) == 1\n",
    "df = pd.DataFrame(lst, columns=['Countries'])\n",
    "print(len(df))\n",
    "print(df)\n",
    "df.to_csv('sub_datasetStagingVsl_filter_usa.csv')\n",
    "# countUSA = 0\n",
    "# for x in dfCountry:\n",
    "#     matches = pattern.search(str(x).lower())\n",
    "#     if matches != None and matches.group():\n",
    "#     # if '1' == str(x).lower():\n",
    "#         print(matches.group())\n",
    "#         countUSA += 1\n",
    "# # dfUSA =  [re.search(r'USA|usa','', str(x)) for x in dfCountry]\n",
    "# print(countUSA)"
   ]
  }
 ],
 "metadata": {
  "kernelspec": {
   "display_name": "Python 3",
   "language": "python",
   "name": "python3"
  },
  "language_info": {
   "codemirror_mode": {
    "name": "ipython",
    "version": 3
   },
   "file_extension": ".py",
   "mimetype": "text/x-python",
   "name": "python",
   "nbconvert_exporter": "python",
   "pygments_lexer": "ipython3",
   "version": "3.11.9"
  }
 },
 "nbformat": 4,
 "nbformat_minor": 2
}
