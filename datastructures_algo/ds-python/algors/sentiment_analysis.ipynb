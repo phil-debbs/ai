{
 "cells": [
  {
   "cell_type": "code",
   "execution_count": 1,
   "metadata": {},
   "outputs": [
    {
     "data": {
      "text/plain": [
       "'NEGATIVE'"
      ]
     },
     "execution_count": 1,
     "metadata": {},
     "output_type": "execute_result"
    }
   ],
   "source": [
    "#sentiment analysis\n",
    "\n",
    "import re\n",
    "\n",
    "def sentimentAnalysis(text):\n",
    "    negatives = set(['bad', 'terrible', 'wicked'])\n",
    "\n",
    "    assert len(text) > 0, \"Text is empty.\"\n",
    "    \n",
    "    #define dictionary to hold negative word count\n",
    "    words = {}\n",
    "\n",
    "    #convert text to lowercase\n",
    "    text = text.lower()\n",
    "\n",
    "    texts = re.split(r'[\\s.,!]', text)\n",
    "    for tx in texts:\n",
    "        if len(tx) >= 3:\n",
    "            if tx in negatives:\n",
    "                if tx in words.keys():\n",
    "                    words[tx] += 1\n",
    "                else:\n",
    "                    words[tx] = 1\n",
    "\n",
    "    sumNegatives = sum(words.values())\n",
    "    totalWords = len(texts)\n",
    "    percent = sumNegatives/totalWords*100\n",
    "\n",
    "    if percent <= 0.5:\n",
    "        return 'POSITIVE'\n",
    "    elif percent > 0.5 and percent < 20:\n",
    "        return 'NEUTRAL'\n",
    "    else:\n",
    "        return 'NEGATIVE'\n",
    "    \n",
    "txt = 'The word is a very bad and terrible place to live. Terrible!'\n",
    "\n",
    "sentimentAnalysis(txt)"
   ]
  },
  {
   "cell_type": "code",
   "execution_count": null,
   "metadata": {},
   "outputs": [],
   "source": []
  }
 ],
 "metadata": {
  "kernelspec": {
   "display_name": "Python 3",
   "language": "python",
   "name": "python3"
  },
  "language_info": {
   "codemirror_mode": {
    "name": "ipython",
    "version": 3
   },
   "file_extension": ".py",
   "mimetype": "text/x-python",
   "name": "python",
   "nbconvert_exporter": "python",
   "pygments_lexer": "ipython3",
   "version": "3.11.9"
  }
 },
 "nbformat": 4,
 "nbformat_minor": 2
}
