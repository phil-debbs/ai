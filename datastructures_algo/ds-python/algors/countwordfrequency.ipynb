{
 "cells": [
  {
   "cell_type": "markdown",
   "metadata": {},
   "source": [
    "Count Word Frequency\n",
    "\n",
    "Define a function to count the frequency of words in a given list of words.\n",
    "\n",
    "Example:\n",
    "\n",
    "words = ['apple', 'orange', 'banana', 'apple', 'orange', 'apple'] \n",
    "count_word_frequency(words) \n",
    "Output:\n",
    "\n",
    " {'apple': 3, 'orange': 2, 'banana': 1}"
   ]
  },
  {
   "cell_type": "code",
   "execution_count": 1,
   "metadata": {},
   "outputs": [
    {
     "data": {
      "text/plain": [
       "{'apple': 3, 'orange': 2, 'banana': 1}"
      ]
     },
     "execution_count": 1,
     "metadata": {},
     "output_type": "execute_result"
    }
   ],
   "source": [
    "def count_word_frequency(words):\n",
    "    # TODO\n",
    "    count = {}\n",
    "    for word in words:\n",
    "        if word in count:\n",
    "            count[word] += 1\n",
    "        else:\n",
    "            count[word] = 1\n",
    "    return count\n",
    "    \n",
    "count_word_frequency(['apple', 'orange', 'banana', 'apple', 'orange', 'apple'] )"
   ]
  }
 ],
 "metadata": {
  "kernelspec": {
   "display_name": "Python 3",
   "language": "python",
   "name": "python3"
  },
  "language_info": {
   "codemirror_mode": {
    "name": "ipython",
    "version": 3
   },
   "file_extension": ".py",
   "mimetype": "text/x-python",
   "name": "python",
   "nbconvert_exporter": "python",
   "pygments_lexer": "ipython3",
   "version": "3.11.9"
  }
 },
 "nbformat": 4,
 "nbformat_minor": 2
}
