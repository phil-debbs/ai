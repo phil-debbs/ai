{
 "cells": [
  {
   "cell_type": "markdown",
   "metadata": {},
   "source": [
    "Common Keys\n",
    "\n",
    "Define a function with takes two dictionaries as parameters and merge them and sum the values of common keys.\n",
    "\n",
    "Example:\n",
    "\n",
    "dict1 = {'a': 1, 'b': 2, 'c': 3}\n",
    "dict2 = {'b': 3, 'c': 4, 'd': 5}\n",
    "merge_dicts(dict1, dict2)\n",
    "Output:\n",
    "\n",
    "{'a': 1, 'b': 5, 'c': 7, 'd': 5}"
   ]
  },
  {
   "cell_type": "code",
   "execution_count": 6,
   "metadata": {},
   "outputs": [
    {
     "name": "stdout",
     "output_type": "stream",
     "text": [
      "{'a': 1, 'b': 5, 'c': 7, 'd': 5}\n"
     ]
    }
   ],
   "source": [
    "def merge_dicts(dict1, dict2):\n",
    "    # TODO\n",
    "    for key in dict2:\n",
    "        if key in dict1:\n",
    "            dict1[key] += dict2[key]\n",
    "        else:\n",
    "            dict1[key] = dict2[key]\n",
    "    # return dict1\n",
    "    \n",
    "\n",
    "dict1 = {'a': 1, 'b': 2, 'c': 3}\n",
    "\n",
    "dict2 = {'b': 3, 'c': 4, 'd': 5}\n",
    "merge_dicts(dict1, dict2)\n",
    "print(dict1)"
   ]
  },
  {
   "cell_type": "code",
   "execution_count": 12,
   "metadata": {},
   "outputs": [
    {
     "name": "stdout",
     "output_type": "stream",
     "text": [
      "False\n",
      "{1: 2, 2: 2, 3: 1}\n"
     ]
    }
   ],
   "source": [
    "testLambda  = lambda k, v: v % 2 == 0\n",
    "\n",
    "print(testLambda(5,7))\n",
    "\n"
   ]
  },
  {
   "cell_type": "code",
   "execution_count": 13,
   "metadata": {},
   "outputs": [
    {
     "name": "stdout",
     "output_type": "stream",
     "text": [
      "{1: 2, 2: 2, 3: 1}\n"
     ]
    }
   ],
   "source": [
    "list1 = [1, 2, 3, 2, 1]\n",
    "\n",
    "dict1 = {k:list1.count(k) for k in set(list1)}\n",
    "\n",
    "print(dict1)\n"
   ]
  },
  {
   "cell_type": "markdown",
   "metadata": {},
   "source": [
    "Same Frequency\n",
    "\n",
    "Define a function which takes two lists as parameters and check if two given lists have the same frequency of elements.\n",
    "\n",
    "Example:\n",
    "\n",
    "list1 = [1, 2, 3, 2, 1]\n",
    "list2 = [3, 1, 2, 1, 3]\n",
    "check_same_frequency(list1, list2)\n",
    "Output:\n",
    "\n",
    "False"
   ]
  },
  {
   "cell_type": "code",
   "execution_count": 17,
   "metadata": {},
   "outputs": [
    {
     "data": {
      "text/plain": [
       "False"
      ]
     },
     "execution_count": 17,
     "metadata": {},
     "output_type": "execute_result"
    }
   ],
   "source": [
    "\n",
    "def check_same_frequency(list1, list2):\n",
    "    # TODO\n",
    "    dict1 = {k:list1.count(k) for k in set(list1)}\n",
    "    dict2 = {k:list2.count(k) for k in set(list2)}\n",
    "\n",
    "    return dict1 == dict2\n",
    "    # if len(dict1) != len(dict2): return False\n",
    "    # for key, value in dict1.items():\n",
    "    #     if dict2[key] != value:\n",
    "    #         return False\n",
    "            \n",
    "    return True\n",
    "    \n",
    "list1 = [1, 2, 3, 2, 1]\n",
    "list2 = [3, 1, 2, 1, 3]\n",
    "\n",
    "check_same_frequency(list1, list2)"
   ]
  },
  {
   "cell_type": "code",
   "execution_count": 22,
   "metadata": {},
   "outputs": [
    {
     "data": {
      "text/plain": [
       "'YES'"
      ]
     },
     "execution_count": 22,
     "metadata": {},
     "output_type": "execute_result"
    }
   ],
   "source": [
    "def isPerm(arr1, arr2):\n",
    "    if len(arr1) != len(arr2):\n",
    "        return 'NO'\n",
    "    arr1.sort()\n",
    "    arr2.sort()\n",
    "    if arr1 == arr2:\n",
    "        return 'YES'\n",
    "    else:\n",
    "        return 'NO'\n",
    "\n",
    "arr1 = [1,2,5,3,7,0,7,3,5,2,1]\n",
    "arr2 = [7,3,1,2,5,0,5,2,1,3,7]\n",
    "isPerm(arr1, arr2)"
   ]
  },
  {
   "cell_type": "code",
   "execution_count": 23,
   "metadata": {},
   "outputs": [
    {
     "name": "stdout",
     "output_type": "stream",
     "text": [
      "[1, 2, 3, 2, 1]\n",
      "[1, 2, 1]\n"
     ]
    }
   ],
   "source": [
    "list1 = [1, 2, 3, 2, 1]\n",
    "print(list1)\n",
    "list1[2:4] = []\n",
    "print(list1)"
   ]
  },
  {
   "cell_type": "code",
   "execution_count": 27,
   "metadata": {},
   "outputs": [
    {
     "name": "stdout",
     "output_type": "stream",
     "text": [
      "(1, 2, 3, 4)\n"
     ]
    },
    {
     "data": {
      "text/plain": [
       "[None]"
      ]
     },
     "execution_count": 27,
     "metadata": {},
     "output_type": "execute_result"
    }
   ],
   "source": [
    "init_tuple_a = 1, 2\n",
    "init_tuple_b = (3, 4)\n",
    " \n",
    "[print(x) for x in [init_tuple_a + init_tuple_b]]"
   ]
  },
  {
   "cell_type": "code",
   "execution_count": 38,
   "metadata": {},
   "outputs": [
    {
     "name": "stdout",
     "output_type": "stream",
     "text": [
      "[(1, 4), (2, 5), (3, 6)]\n",
      "[6]\n",
      "[5, 7, 9]\n",
      "(5, 7, 9)\n"
     ]
    }
   ],
   "source": [
    "init_tuple = [(0, 1), (1, 2), (2, 3)]\n",
    "sum(n for _, n in init_tuple)\n",
    "\n",
    "#Elementwise Sum\n",
    "tuple1 = (1, 2, 3)\n",
    "tuple2 = (4, 5, 6)\n",
    "print(list(zip(tuple1, tuple2)))\n",
    "print(list(map(sum, [tuple1])))\n",
    "print(list(map(sum, zip(tuple1, tuple2))))\n",
    "print(tuple(map(sum, zip(tuple1, tuple2))))"
   ]
  },
  {
   "cell_type": "code",
   "execution_count": 49,
   "metadata": {},
   "outputs": [
    {
     "data": {
      "text/plain": [
       "(1, 5, 9)"
      ]
     },
     "execution_count": 49,
     "metadata": {},
     "output_type": "execute_result"
    }
   ],
   "source": [
    "(1,)+tuple1\n",
    "\n",
    "#Diagonal\n",
    "input_tuple = (\n",
    "    (1, 2, 3),\n",
    "    (4, 5, 6),\n",
    "    (7, 8, 9)\n",
    ")\n",
    "#range(len(input_tuple)) returns 0,1,2 for i\n",
    "#So [i][i] for the above gives the diagonal --> [0][0], [1][1], [2][2]\n",
    "tuple(input_tuple[i][i] for i in range(len(input_tuple)))\n",
    "\n",
    "#OR \n",
    "\n",
    "def get_diagonal(tup):\n",
    "    # TODO\n",
    "    ls =[]\n",
    "    for i in range(len(tup)):\n",
    "        ls.append(tup[i][i])\n",
    "        \n",
    "    return tuple(ls)\n",
    "    \n",
    "get_diagonal(input_tuple)"
   ]
  },
  {
   "cell_type": "code",
   "execution_count": 56,
   "metadata": {},
   "outputs": [
    {
     "name": "stdout",
     "output_type": "stream",
     "text": [
      "(4, 5, 8)\n"
     ]
    },
    {
     "data": {
      "text/plain": [
       "(8, 4, 5)"
      ]
     },
     "execution_count": 56,
     "metadata": {},
     "output_type": "execute_result"
    }
   ],
   "source": [
    "#Common Elements\n",
    "\n",
    "\n",
    "def common_elements(tuple1, tuple2):\n",
    "    # TODO\n",
    "    myset = set(tuple1)\n",
    "    ls=[]\n",
    "    for v in tuple2:\n",
    "        if v in myset:\n",
    "            ls.append(v)\n",
    "    \n",
    "    return tuple(ls)\n",
    "\n",
    "tuple1 = (1, 2, 3, 4, 5,8)\n",
    "tuple2 = (4, 5, 6, 7, 8)\n",
    "output_tuple = common_elements(tuple1, tuple2)\n",
    "print(output_tuple)\n",
    "\n",
    "#OR\n",
    "tuple(set(tuple1) & set(tuple2))"
   ]
  },
  {
   "cell_type": "code",
   "execution_count": 72,
   "metadata": {},
   "outputs": [],
   "source": [
    "#singly linked list\n",
    "\n",
    "\n",
    "class Node:\n",
    "    def __init__(self, value):\n",
    "        self.value = value\n",
    "        self.next = None\n",
    "\n",
    "class LinkedList:\n",
    "\n",
    "    def __init__(self):\n",
    "        self.head = None\n",
    "        self.tail = None\n",
    "        self.length = 0\n",
    "\n",
    "    def append(self, value):\n",
    "        new_Node = Node(value)\n",
    "        if self.length == 0:\n",
    "            self.head = new_Node\n",
    "            self.tail = new_Node\n",
    "        else:\n",
    "            self.tail.next = new_Node\n",
    "            self.tail = new_Node\n",
    "        self.length += 1\n",
    "\n",
    "    def prepend(self, value):\n",
    "        new_Node = Node(value)\n",
    "        if self.head is None:\n",
    "            self.head = new_Node\n",
    "            self.tail = new_Node\n",
    "        else:\n",
    "            new_Node.next = self.head\n",
    "            self.head = new_Node\n",
    "        self.length += 1\n",
    "\n",
    "    def insert(self, value, index):       \n",
    "        if index == 0:\n",
    "            self.prepend(value)\n",
    "        elif index == self.length:\n",
    "            self.append(value)\n",
    "        else:\n",
    "            new_Node = Node(value)\n",
    "            temp = self.head\n",
    "            for _ in range(index-1):\n",
    "                temp = temp.next\n",
    "            new_Node.next = temp.next\n",
    "            temp.next = new_Node\n",
    "\n",
    "    def search(self, value):\n",
    "        if self.head is None:\n",
    "            return False\n",
    "        else:\n",
    "            current = self.head\n",
    "            while current is not None:\n",
    "                if current.value == value:\n",
    "                    return True\n",
    "                current = current.next \n",
    "        return False\n",
    "\n",
    "    def __str__(self):\n",
    "        current = self.head\n",
    "        result = \"\"\n",
    "        while current is not None:\n",
    "            if current.next is None:\n",
    "                result += f\"{current.value}\"\n",
    "            else:\n",
    "                result += f\"{current.value} --> \"\n",
    "            current = current.next\n",
    "        return result"
   ]
  },
  {
   "cell_type": "code",
   "execution_count": 74,
   "metadata": {},
   "outputs": [
    {
     "name": "stdout",
     "output_type": "stream",
     "text": [
      "a --> b --> c\n",
      "False\n"
     ]
    }
   ],
   "source": [
    "ls = ['a', 'b', 'c']\n",
    "my_linkedlist = LinkedList()\n",
    "for l in ls:\n",
    "    my_linkedlist.append(l)\n",
    "\n",
    "\n",
    "print(my_linkedlist)\n",
    "print(my_linkedlist.search(\"g\"))"
   ]
  },
  {
   "cell_type": "code",
   "execution_count": 82,
   "metadata": {},
   "outputs": [
    {
     "data": {
      "text/plain": [
       "'NO'"
      ]
     },
     "execution_count": 82,
     "metadata": {},
     "output_type": "execute_result"
    }
   ],
   "source": [
    "#palindrome \n",
    "\n",
    "def palindrome(word):\n",
    "    l=0\n",
    "    r=len(word) -1\n",
    "    if len(word) == 1:\n",
    "        return 'YES'\n",
    "    if len(word) == 0:\n",
    "        return 'NO'\n",
    "    while l<r:\n",
    "        if word[l].lower() == word[r].lower():\n",
    "            l += 1\n",
    "            r -= 1\n",
    "        elif word[l].isalpha() == False:\n",
    "            l+=1\n",
    "        elif word[r].isalpha() == False:\n",
    "            r-=1\n",
    "        else:\n",
    "            return 'NO'\n",
    "    return 'YES'\n",
    "\n",
    "palindrome('@abut-1-tubab')\n",
    "# palindrome('@allula')"
   ]
  },
  {
   "cell_type": "code",
   "execution_count": 86,
   "metadata": {},
   "outputs": [
    {
     "name": "stdout",
     "output_type": "stream",
     "text": [
      "YES\n"
     ]
    }
   ],
   "source": [
    "def permutation(arr1, arr2):\n",
    "    if len(arr1) != len(arr2):\n",
    "        return 'NO'\n",
    "    \n",
    "    # arr1.sort()\n",
    "    # arr2.sort()\n",
    "    set1 = set(arr1)\n",
    "    set2 = set(arr2)\n",
    "    # if arr1 == arr2:\n",
    "    if set1 == set2:\n",
    "        return 'YES'\n",
    "    else:\n",
    "        return 'NO'\n",
    "\n",
    "arr1 = [1,2,5,3,7,0,7,3,5,2,1]\n",
    "arr2 = [7,3,1,2,5,0,5,2,1,3,7]\n",
    "print(permutation(arr1, arr2))"
   ]
  },
  {
   "cell_type": "code",
   "execution_count": 87,
   "metadata": {},
   "outputs": [
    {
     "data": {
      "text/plain": [
       "'c'"
      ]
     },
     "execution_count": 87,
     "metadata": {},
     "output_type": "execute_result"
    }
   ],
   "source": [
    "ls = ['a', 'b', 'c']\n",
    "ls[-1]"
   ]
  },
  {
   "cell_type": "code",
   "execution_count": 97,
   "metadata": {},
   "outputs": [
    {
     "name": "stdout",
     "output_type": "stream",
     "text": [
      "['rAttt', 'hhhh']\n"
     ]
    }
   ],
   "source": [
    "gg = 'rAttt hhhh'\n",
    "kk=gg.split()\n",
    "print(kk)"
   ]
  },
  {
   "cell_type": "code",
   "execution_count": 127,
   "metadata": {},
   "outputs": [
    {
     "ename": "AssertionError",
     "evalue": "Non alphabets",
     "output_type": "error",
     "traceback": [
      "\u001b[1;31m---------------------------------------------------------------------------\u001b[0m",
      "\u001b[1;31mAssertionError\u001b[0m                            Traceback (most recent call last)",
      "Cell \u001b[1;32mIn[127], line 40\u001b[0m\n\u001b[0;32m     34\u001b[0m             \u001b[38;5;28;01mreturn\u001b[39;00m \u001b[38;5;28;01mFalse\u001b[39;00m\n\u001b[0;32m     36\u001b[0m     \u001b[38;5;28;01mreturn\u001b[39;00m \u001b[38;5;28;01mTrue\u001b[39;00m\n\u001b[1;32m---> 40\u001b[0m \u001b[43mmissingLetters\u001b[49m\u001b[43m(\u001b[49m\u001b[38;5;124;43m\"\u001b[39;49m\u001b[38;5;124;43m\"\u001b[39;49m\u001b[43m)\u001b[49m\n\u001b[0;32m     41\u001b[0m \u001b[38;5;66;03m# missingLetters(\"fbdagce\")\u001b[39;00m\n\u001b[0;32m     42\u001b[0m \u001b[38;5;66;03m# missingLetters(\"ywxz\")\u001b[39;00m\n",
      "Cell \u001b[1;32mIn[127], line 9\u001b[0m, in \u001b[0;36mmissingLetters\u001b[1;34m(text)\u001b[0m\n\u001b[0;32m      7\u001b[0m \u001b[38;5;28;01mdef\u001b[39;00m \u001b[38;5;21mmissingLetters\u001b[39m(text):\n\u001b[1;32m----> 9\u001b[0m     \u001b[38;5;28;01massert\u001b[39;00m text\u001b[38;5;241m.\u001b[39misalpha(), \u001b[38;5;124m\"\u001b[39m\u001b[38;5;124mNon alphabets\u001b[39m\u001b[38;5;124m\"\u001b[39m \n\u001b[0;32m     10\u001b[0m     \u001b[38;5;28;01massert\u001b[39;00m \u001b[38;5;28mlen\u001b[39m(text) \u001b[38;5;241m>\u001b[39m \u001b[38;5;241m0\u001b[39m, \u001b[38;5;124m\"\u001b[39m\u001b[38;5;124mEmpty text\u001b[39m\u001b[38;5;124m\"\u001b[39m   \n\u001b[0;32m     11\u001b[0m     letters \u001b[38;5;241m=\u001b[39m [\u001b[38;5;124m'\u001b[39m\u001b[38;5;124ma\u001b[39m\u001b[38;5;124m'\u001b[39m, \u001b[38;5;124m'\u001b[39m\u001b[38;5;124mb\u001b[39m\u001b[38;5;124m'\u001b[39m, \u001b[38;5;124m'\u001b[39m\u001b[38;5;124mc\u001b[39m\u001b[38;5;124m'\u001b[39m, \u001b[38;5;124m'\u001b[39m\u001b[38;5;124md\u001b[39m\u001b[38;5;124m'\u001b[39m, \u001b[38;5;124m'\u001b[39m\u001b[38;5;124me\u001b[39m\u001b[38;5;124m'\u001b[39m, \u001b[38;5;124m'\u001b[39m\u001b[38;5;124mf\u001b[39m\u001b[38;5;124m'\u001b[39m, \u001b[38;5;124m'\u001b[39m\u001b[38;5;124mg\u001b[39m\u001b[38;5;124m'\u001b[39m, \u001b[38;5;124m'\u001b[39m\u001b[38;5;124mh\u001b[39m\u001b[38;5;124m'\u001b[39m, \u001b[38;5;124m'\u001b[39m\u001b[38;5;124mi\u001b[39m\u001b[38;5;124m'\u001b[39m, \u001b[38;5;124m'\u001b[39m\u001b[38;5;124mj\u001b[39m\u001b[38;5;124m'\u001b[39m, \u001b[38;5;124m'\u001b[39m\u001b[38;5;124mk\u001b[39m\u001b[38;5;124m'\u001b[39m, \u001b[38;5;124m'\u001b[39m\u001b[38;5;124ml\u001b[39m\u001b[38;5;124m'\u001b[39m, \u001b[38;5;124m'\u001b[39m\u001b[38;5;124mm\u001b[39m\u001b[38;5;124m'\u001b[39m, \u001b[38;5;124m'\u001b[39m\u001b[38;5;124mn\u001b[39m\u001b[38;5;124m'\u001b[39m, \u001b[38;5;124m'\u001b[39m\u001b[38;5;124mo\u001b[39m\u001b[38;5;124m'\u001b[39m, \u001b[38;5;124m'\u001b[39m\u001b[38;5;124mp\u001b[39m\u001b[38;5;124m'\u001b[39m, \u001b[38;5;124m'\u001b[39m\u001b[38;5;124mq\u001b[39m\u001b[38;5;124m'\u001b[39m, \u001b[38;5;124m'\u001b[39m\u001b[38;5;124mr\u001b[39m\u001b[38;5;124m'\u001b[39m, \u001b[38;5;124m'\u001b[39m\u001b[38;5;124ms\u001b[39m\u001b[38;5;124m'\u001b[39m, \u001b[38;5;124m'\u001b[39m\u001b[38;5;124mt\u001b[39m\u001b[38;5;124m'\u001b[39m, \u001b[38;5;124m'\u001b[39m\u001b[38;5;124mu\u001b[39m\u001b[38;5;124m'\u001b[39m, \u001b[38;5;124m'\u001b[39m\u001b[38;5;124mv\u001b[39m\u001b[38;5;124m'\u001b[39m, \u001b[38;5;124m'\u001b[39m\u001b[38;5;124mw\u001b[39m\u001b[38;5;124m'\u001b[39m, \u001b[38;5;124m'\u001b[39m\u001b[38;5;124mx\u001b[39m\u001b[38;5;124m'\u001b[39m, \u001b[38;5;124m'\u001b[39m\u001b[38;5;124my\u001b[39m\u001b[38;5;124m'\u001b[39m, \u001b[38;5;124m'\u001b[39m\u001b[38;5;124mz\u001b[39m\u001b[38;5;124m'\u001b[39m]\n",
      "\u001b[1;31mAssertionError\u001b[0m: Non alphabets"
     ]
    }
   ],
   "source": [
    "import string\n",
    "# lo = string.ascii_lowercase\n",
    "# 'abcdefghijklmnopqrstuvwxyz'\n",
    "# print(list(lo))\n",
    "# print(lo)\n",
    "\n",
    "def missingLetters(text):\n",
    "    \n",
    "    assert text.isalpha(), \"Non alphabets\" \n",
    "    assert len(text) > 0, \"Empty text\"   \n",
    "    letters = ['a', 'b', 'c', 'd', 'e', 'f', 'g', 'h', 'i', 'j', 'k', 'l', 'm', 'n', 'o', 'p', 'q', 'r', 's', 't', 'u', 'v', 'w', 'x', 'y', 'z']\n",
    "\n",
    "    text = ''.join(sorted(text.lower()))\n",
    "    \n",
    "    print(text)\n",
    "\n",
    "    firstLetter = text[0]\n",
    "    firstLetterIndex = -1\n",
    "\n",
    "    for i in range(len(letters)):\n",
    "        if firstLetter == letters[i]:\n",
    "            firstLetterIndex = i\n",
    "    \n",
    "    if firstLetterIndex < 0: return False\n",
    "\n",
    "    lastLetterIndex= firstLetterIndex + len(text) - 1\n",
    "\n",
    "\n",
    "    l=firstLetterIndex\n",
    "    r=lastLetterIndex\n",
    "\n",
    "    for i in range(len(text)):\n",
    "        if text[i]!=letters[l+i]:\n",
    "            return False\n",
    "\n",
    "    return True\n",
    "\n",
    "    \n",
    "\n",
    "missingLetters(\"\")\n",
    "# missingLetters(\"fbdagce\")\n",
    "# missingLetters(\"ywxz\")"
   ]
  }
 ],
 "metadata": {
  "kernelspec": {
   "display_name": "Python 3",
   "language": "python",
   "name": "python3"
  },
  "language_info": {
   "codemirror_mode": {
    "name": "ipython",
    "version": 3
   },
   "file_extension": ".py",
   "mimetype": "text/x-python",
   "name": "python",
   "nbconvert_exporter": "python",
   "pygments_lexer": "ipython3",
   "version": "3.11.9"
  }
 },
 "nbformat": 4,
 "nbformat_minor": 2
}
