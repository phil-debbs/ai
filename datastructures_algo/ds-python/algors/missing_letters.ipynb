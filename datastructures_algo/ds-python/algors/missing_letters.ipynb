{
 "cells": [
  {
   "cell_type": "code",
   "execution_count": 52,
   "metadata": {},
   "outputs": [
    {
     "data": {
      "text/plain": [
       "True"
      ]
     },
     "execution_count": 52,
     "metadata": {},
     "output_type": "execute_result"
    }
   ],
   "source": [
    "\n",
    "def missingLetters(text):\n",
    "    \n",
    "    assert len(text) > 0, \"Empty text\"   \n",
    "    assert text.isalpha(), \"Non alphabets\" \n",
    "    \n",
    "    letters = ''.join([chr(c) for c in range(97,123)])\n",
    "\n",
    "    text = ''.join(sorted(text.lower()))\n",
    "\n",
    "    l =  letters.index(text[0])\n",
    "\n",
    "    # return {True if text[i]==letters[l+i] else False for i in range(len(text))}\n",
    "    for i in range(len(text)):\n",
    "        if text[i]!=letters[l+i]:\n",
    "            return False\n",
    "\n",
    "    return True\n",
    "\n",
    "    \n",
    "\n",
    "# missingLetters(\"d1\")\n",
    "missingLetters(\"fbdagce\")\n",
    "# missingLetters(\"ywxz\")"
   ]
  },
  {
   "cell_type": "code",
   "execution_count": 50,
   "metadata": {},
   "outputs": [
    {
     "name": "stdout",
     "output_type": "stream",
     "text": [
      "['A', 'B', 'C', 'D', 'E', 'F', 'G', 'H', 'I', 'J', 'K', 'L', 'M', 'N', 'O', 'P', 'Q', 'R', 'S', 'T', 'U', 'V', 'W', 'X', 'Y', 'Z']\n"
     ]
    }
   ],
   "source": [
    "#generate upper case letters using their ascii codes\n",
    "\n",
    "letters = [chr(c) for c in range(65,91)] #list comprehension\n",
    "#OR\n",
    "letters = []\n",
    "for c in range(65,91):\n",
    "    letters.append(chr(c))\n",
    "\n",
    "print(letters)"
   ]
  },
  {
   "cell_type": "code",
   "execution_count": 51,
   "metadata": {},
   "outputs": [
    {
     "name": "stdout",
     "output_type": "stream",
     "text": [
      "abcdefghijklmnopqrstuvwxyz\n"
     ]
    }
   ],
   "source": [
    "#generate lower case letters using their ascii codes\n",
    "\n",
    "letters = \"\".join([chr(c) for c in range(97,123)]) #list comprehension\n",
    "#OR\n",
    "# letters = []\n",
    "# for c in range(97,123):\n",
    "#     letters.append(chr(c))\n",
    "\n",
    "print(letters)"
   ]
  }
 ],
 "metadata": {
  "kernelspec": {
   "display_name": "Python 3",
   "language": "python",
   "name": "python3"
  },
  "language_info": {
   "codemirror_mode": {
    "name": "ipython",
    "version": 3
   },
   "file_extension": ".py",
   "mimetype": "text/x-python",
   "name": "python",
   "nbconvert_exporter": "python",
   "pygments_lexer": "ipython3",
   "version": "3.11.9"
  }
 },
 "nbformat": 4,
 "nbformat_minor": 2
}
