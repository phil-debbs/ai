{
  "cells": [
    {
      "cell_type": "markdown",
      "id": "d63a44d0",
      "metadata": {},
      "source": [
        "Metacharacters\n",
        "\n",
        "Metacharacter | Description\n",
        "\n",
        ".               Finds any single character\n",
        "\n",
        "^               Start of string\n",
        "\n",
        "$               End of string\n",
        "\n",
        "\\*               Matches zero or more times   \n",
        "\n",
        "\\+               Matches one or more times\n",
        "\n",
        "?               Matches either 0 or 1times\n",
        "\n",
        "{}              Matches all inside a set amount of times\n",
        "\n",
        "[]              Specifies a set of characters to match\n",
        "\n",
        "\\               Escapes metacharacters to match them in patterns\n",
        "\n",
        "|               Specifies either a or b (a|b)\n",
        " \n",
        "()              Captures all enclosed"
      ]
    },
    {
      "cell_type": "code",
      "execution_count": 1,
      "id": "9ccf85c9",
      "metadata": {},
      "outputs": [],
      "source": [
        "import re"
      ]
    },
    {
      "cell_type": "code",
      "execution_count": 15,
      "id": "ec09c462",
      "metadata": {},
      "outputs": [
        {
          "name": "stdout",
          "output_type": "stream",
          "text": [
            "['m', 'y', 'w', 'o', 'r', 'd', 'i', 's', 't', 'e', 'x', 't']\n"
          ]
        }
      ],
      "source": [
        "test_string = \"my word is text\"\n",
        "pattern = re.compile(r'\\w') #match a single word character. This will match each and every word character\n",
        "matches = pattern.findall(test_string)\n",
        "print(matches)"
      ]
    },
    {
      "cell_type": "code",
      "execution_count": 17,
      "id": "aa45e4dc",
      "metadata": {},
      "outputs": [
        {
          "name": "stdout",
          "output_type": "stream",
          "text": [
            "[]\n"
          ]
        }
      ],
      "source": [
        "test_string = \"my word is text\"\n",
        "'''\n",
        "'\\w\\d'\n",
        "matches a single word character followed exactly by a digit in the exact order specified. eg c2, a1 etc.\n",
        "This will not hit any pattern in test_string since no such pattern exists.  \n",
        "'''\n",
        "pattern = re.compile(r'\\w\\d') \n",
        "\n",
        "matches = pattern.findall(test_string)\n",
        "print(matches)"
      ]
    },
    {
      "cell_type": "code",
      "execution_count": 18,
      "id": "4badfb54",
      "metadata": {},
      "outputs": [
        {
          "name": "stdout",
          "output_type": "stream",
          "text": [
            "['m', 'y', 'w', 'o', 'r', 'd', 'i', 's', 't', 'e', 'x', 't']\n"
          ]
        }
      ],
      "source": [
        "test_string = \"my word is text\"\n",
        "'''\n",
        "'[\\w\\d]'\n",
        "matches a single word character OR a digit. eg c2, a1 etc.\n",
        "Each character in test_string will qualify.  \n",
        "'''\n",
        "pattern = re.compile(r'[\\w\\d]') \n",
        "\n",
        "matches = pattern.findall(test_string)\n",
        "print(matches)"
      ]
    },
    {
      "cell_type": "code",
      "execution_count": null,
      "id": "83f27aef",
      "metadata": {},
      "outputs": [],
      "source": [
        "test_string = \"7st art of a str ing\"\n",
        "pattern = re.compile(r'^[789]')\n",
        "matches = pattern.sub(test_string, '')\n",
        "print(matches)"
      ]
    },
    {
      "cell_type": "markdown",
      "id": "59eG_xTDYDoQ",
      "metadata": {
        "id": "59eG_xTDYDoQ"
      },
      "source": [
        "---"
      ]
    },
    {
      "cell_type": "code",
      "execution_count": null,
      "id": "02acaae8",
      "metadata": {},
      "outputs": [],
      "source": [
        "test_string = \"7st art of a str ing\"\n",
        "pattern = re.compile(r'.')\n",
        "matches = pattern.findall(test_string)\n",
        "print(matches)"
      ]
    }
  ],
  "metadata": {
    "colab": {
      "collapsed_sections": [
        "36883f8f",
        "0329375d",
        "8bd5572f",
        "d5f15b1a",
        "3a786683",
        "cbaa67e6",
        "07142b9e",
        "103b5a2b",
        "3ab86f3a",
        "4ce39420",
        "58e4d03c",
        "98f2afac",
        "2e4837f0",
        "e68ec595",
        "b1f07bca",
        "561ede75",
        "a39222d9",
        "0af368f7",
        "423ff5fe",
        "6670c089",
        "Yd78kYE9X-Nc",
        "40e0e876",
        "1eeb2f0b"
      ],
      "provenance": []
    },
    "kernelspec": {
      "display_name": "Python 3 (ipykernel)",
      "language": "python",
      "name": "python3"
    },
    "language_info": {
      "codemirror_mode": {
        "name": "ipython",
        "version": 3
      },
      "file_extension": ".py",
      "mimetype": "text/x-python",
      "name": "python",
      "nbconvert_exporter": "python",
      "pygments_lexer": "ipython3",
      "version": "3.11.9"
    }
  },
  "nbformat": 4,
  "nbformat_minor": 5
}
