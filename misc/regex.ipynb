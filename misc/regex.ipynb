{
  "cells": [
    {
      "cell_type": "markdown",
      "id": "d63a44d0",
      "metadata": {},
      "source": [
        "Metacharacters\n",
        "\n",
        "Metacharacter | Description\n",
        "\n",
        ".               Finds any single character\n",
        "\n",
        "^               Start of string\n",
        "\n",
        "$               End of string\n",
        "\n",
        "\\*               Matches zero or more times   \n",
        "\n",
        "\\+               Matches one or more times\n",
        "\n",
        "?               Matches either 0 or 1times\n",
        "\n",
        "{}              Matches all inside a set amount of times\n",
        "\n",
        "[]              Specifies a set of characters to match\n",
        "\n",
        "\\               Escapes metacharacters to match them in patterns\n",
        "\n",
        "|               Specifies either a or b (a|b)\n",
        " \n",
        "()              Captures all enclosed"
      ]
    },
    {
      "cell_type": "code",
      "execution_count": 1,
      "id": "9ccf85c9",
      "metadata": {},
      "outputs": [],
      "source": [
        "import re"
      ]
    },
    {
      "cell_type": "code",
      "execution_count": 2,
      "id": "ec09c462",
      "metadata": {},
      "outputs": [
        {
          "name": "stdout",
          "output_type": "stream",
          "text": [
            "['m', 'y', 'w', 'o', 'r', 'd', 'i', 's', 't', 'e', 'x', 't']\n"
          ]
        }
      ],
      "source": [
        "test_string = \"my word is text\"\n",
        "pattern = re.compile(r'\\w') #match a single word character. This will match each and every word character\n",
        "matches = pattern.findall(test_string)\n",
        "print(matches)"
      ]
    },
    {
      "cell_type": "code",
      "execution_count": 3,
      "id": "aa45e4dc",
      "metadata": {},
      "outputs": [
        {
          "name": "stdout",
          "output_type": "stream",
          "text": [
            "[]\n"
          ]
        }
      ],
      "source": [
        "test_string = \"my word is text\"\n",
        "'''\n",
        "'\\w\\d'\n",
        "matches a single word character followed exactly by a digit in the exact order specified. eg c2, a1 etc.\n",
        "This will not hit any pattern in test_string since no such pattern exists.  \n",
        "'''\n",
        "pattern = re.compile(r'\\w\\d') \n",
        "\n",
        "matches = pattern.findall(test_string)\n",
        "print(matches)"
      ]
    },
    {
      "cell_type": "code",
      "execution_count": 4,
      "id": "4badfb54",
      "metadata": {},
      "outputs": [
        {
          "name": "stdout",
          "output_type": "stream",
          "text": [
            "['m', 'y', 'w', 'o', 'r', 'd', 'i', 's', 't', 'e', 'x', 't']\n"
          ]
        }
      ],
      "source": [
        "test_string = \"my word is text\"\n",
        "'''\n",
        "'[\\w\\d]'\n",
        "matches a single word character OR a digit. eg c2, a1 etc.\n",
        "Each character in test_string will qualify.  \n",
        "'''\n",
        "pattern = re.compile(r'[\\w\\d]') \n",
        "\n",
        "matches = pattern.findall(test_string)\n",
        "print(matches)"
      ]
    },
    {
      "cell_type": "code",
      "execution_count": 5,
      "id": "83f27aef",
      "metadata": {},
      "outputs": [
        {
          "name": "stdout",
          "output_type": "stream",
          "text": [
            "\n"
          ]
        }
      ],
      "source": [
        "test_string = \"7st art of a str ing\"\n",
        "pattern = re.compile(r'^[789]')\n",
        "matches = pattern.sub(test_string, '')\n",
        "print(matches)"
      ]
    },
    {
      "cell_type": "markdown",
      "id": "59eG_xTDYDoQ",
      "metadata": {
        "id": "59eG_xTDYDoQ"
      },
      "source": [
        "---"
      ]
    },
    {
      "cell_type": "code",
      "execution_count": 6,
      "id": "02acaae8",
      "metadata": {},
      "outputs": [
        {
          "name": "stdout",
          "output_type": "stream",
          "text": [
            "['7', 's', 't', ' ', 'a', 'r', 't', ' ', 'o', 'f', ' ', 'a', ' ', 's', 't', 'r', ' ', 'i', 'n', 'g']\n"
          ]
        }
      ],
      "source": [
        "test_string = \"7st art of a str ing\"\n",
        "pattern = re.compile(r'.')\n",
        "matches = pattern.findall(test_string)\n",
        "print(matches)"
      ]
    },
    {
      "cell_type": "code",
      "execution_count": 7,
      "id": "139fb00c",
      "metadata": {},
      "outputs": [
        {
          "name": "stdout",
          "output_type": "stream",
          "text": [
            "192.168.0.185\n"
          ]
        }
      ],
      "source": [
        "# exp = \"(\\d{1,3}\\.){3}\\d{1,3}\"\n",
        "ip = \"blah blah 192.168.0.185 blah blah\"\n",
        "pattern = re.compile(r\"(?:\\d{1,3}\\.){3}\\d{1,3}\")\n",
        "match = pattern.findall(ip)\n",
        "match = pattern.search(ip)\n",
        "print(match.group())"
      ]
    },
    {
      "cell_type": "code",
      "execution_count": 8,
      "id": "17d2a160",
      "metadata": {},
      "outputs": [
        {
          "name": "stdout",
          "output_type": "stream",
          "text": [
            "news/100\n"
          ]
        }
      ],
      "source": [
        "s = 'news/100'\n",
        "# pattern = '\\w+/(\\d+)'  #with capturing group (\\d+)\n",
        "pattern = '\\w+/(?:\\d+)'  #with capturing group (\\d+)\n",
        "# pattern = '\\w+/\\d+'      #without a capturing group\n",
        "matches = re.finditer(pattern, s)\n",
        "for match in matches:\n",
        "    print(match.group(0))"
      ]
    },
    {
      "cell_type": "code",
      "execution_count": 17,
      "id": "b747870b",
      "metadata": {},
      "outputs": [
        {
          "name": "stdout",
          "output_type": "stream",
          "text": [
            "{'resource': 'news', 'id': '100'}\n"
          ]
        }
      ],
      "source": [
        "#named capturing group\n",
        "'''\n",
        "https://www.pythontutorial.net/python-regex/python-regex-capturing-group/\n",
        "\n",
        "format --> (?P<name>pattern to name)\n",
        "In this syntax:\n",
        "\n",
        "- () indicates a capturing group.\n",
        "- ?P<name> specifies the name of the capturing group.\n",
        "- rule is a rule in the pattern.\n",
        "\n",
        "eg '(?P<resource>\\w+)/(?P<id>\\d+)'\n",
        "In this syntax, the resource is the name for the first capturing group and the id is the name for the second capturing group\n",
        "To get all the named subgroups of a match, you use the groupdict() method of the Match object. \n",
        "'''\n",
        "s = 'news/100'\n",
        "pattern = '(?P<resource>\\w+)/(?P<id>\\d+)'  \n",
        "matches = re.finditer(pattern, s)\n",
        "for match in matches:\n",
        "    print(match.groupdict())"
      ]
    },
    {
      "cell_type": "code",
      "execution_count": 18,
      "id": "afe94042",
      "metadata": {},
      "outputs": [
        {
          "name": "stdout",
          "output_type": "stream",
          "text": [
            "{'resource': 'news', 'year': '2021', 'month': '12', 'day': '31'}\n"
          ]
        }
      ],
      "source": [
        "s = 'news/2021/12/31'\n",
        "pattern = '(?P<resource>\\w+)/(?P<year>\\d{4})/(?P<month>\\d{1,2})/(?P<day>\\d{1,2})'\n",
        "\n",
        "matches = re.finditer(pattern, s)\n",
        "for match in matches:\n",
        "    print(match.groupdict())"
      ]
    },
    {
      "cell_type": "markdown",
      "id": "325b3563",
      "metadata": {},
      "source": [
        "## Capturing and Non-capturing Groups\n",
        "\n",
        "###   What are they?\n",
        "*  The pattern that you submit to regex can be broken into groups using parenthesis, eg '(\\d+)[-./]\\d{1,2}[-./]\\d{1,2}'\n",
        "*  Note that the entire pattern submit constitutes the first group and is indexed at group(0).\n",
        "*  In the example given, '(\\d+)[-./]\\d{1,2}[-./]\\d{1,2}', the first parenthesis, (\\d+), creates a group, group(1), apart from the whole pattern which is group(0). \n",
        "*  (\\d+) creates a capturing group. This means the group is captured and kept inside memory, much like variables, and can be referenced (through backference $ or \\ ) later in the pattern, to define same subpattern.\n",
        "*  The fact that they are captured into separate groups and can be referenced later in the pattern makes them capturing groups.\n",
        "*  Capturing groups are indexed from 0, 1, 2, etc, with the entire pattern being the group(0), first sub-group being group(1) and so on.\n",
        "*  Captured groups can be named and referenced by their names: (?P<name>rule)\n",
        "*  If you create a group in a pattern but do not want that group to be captured, you define it as (?:rule). This creates a Non-capturing group and cannot be backreferenced later in the pattern, since they have not been captured and have no reference.\n",
        "*  The distinguishing factor is the ?: present inside a group. The presence of it indicates a Non-capturing group and vice versa."
      ]
    },
    {
      "cell_type": "markdown",
      "id": "187b8a20",
      "metadata": {},
      "source": [
        "Summary\n",
        "\n",
        "* Place a rule of a pattern inside parentheses () to create a capturing group.\n",
        "* Use the group() method of the Match object to get the subgroup by an index.\n",
        "* Use the (?P<name>rule) to create a named capturing group for the rule in a pattern.\n",
        "* Use the groupdict() method of the Match object to get the named subgroups as a dictionary."
      ]
    },
    {
      "cell_type": "markdown",
      "id": "0372fc45",
      "metadata": {},
      "source": [
        "Backreferences\n",
        "* Backreferences like variables in Python. The backreferences allow you to reference capturing groups within a regular expression.\n",
        "* The following shows the syntax of a backreference: ```\\N or \\g<N>```\n",
        "* In this syntax, N can be 1, 2, 3, etc. that represents the corresponding capturing group.\n",
        "* Note that the \\g<0> refer to the entire match, which has the same value as the match.group(0)"
      ]
    },
    {
      "cell_type": "markdown",
      "id": "d63f75db",
      "metadata": {},
      "source": [
        "Using Python regex backreferences to get text inside quotes\n",
        "* Suppose you want to get the text within double quotes: \"Python\\'s awsome\". She said\n",
        "* you may use the following pattern: ```'[\\'\"](.*?)[\\'\"]'```, but, this pattern will match text that starts with a single quote (‘) and ends with a double quote (“) or vice versa.\n",
        "* The preceding returns the \"Python' not \"Python's awesome\"\n",
        "* To fix it, you can use a backreference: ```r'([\\'\"]).*?\\1'```\n",
        "* The backreference \\1 refers to the first capturing group. So if the subgroup starts with a single quote, the \\1 will match the single quote. And if the subgroup starts with a double-quote, the \\1 will match the double-quote."
      ]
    },
    {
      "cell_type": "code",
      "execution_count": 32,
      "id": "ba115014",
      "metadata": {},
      "outputs": [
        {
          "name": "stdout",
          "output_type": "stream",
          "text": [
            "None\n"
          ]
        }
      ],
      "source": [
        "import re\n",
        "\n",
        "text = '2004-04-02  was great as well as 2012-05-01 '\n",
        "# pattern = re.compile(r'(\\d+?)[-\\.\\/](\\d{1,2})[-\\.\\/]\\d{1,2}')\n",
        "pattern = re.compile(r'(\\d+?)([-\\./])(\\d{1,2})\\2\\3')\n",
        "# matches = pattern.findall(text)\n",
        "matches = pattern.search(text)\n",
        "print(matches)"
      ]
    }
  ],
  "metadata": {
    "colab": {
      "collapsed_sections": [
        "36883f8f",
        "0329375d",
        "8bd5572f",
        "d5f15b1a",
        "3a786683",
        "cbaa67e6",
        "07142b9e",
        "103b5a2b",
        "3ab86f3a",
        "4ce39420",
        "58e4d03c",
        "98f2afac",
        "2e4837f0",
        "e68ec595",
        "b1f07bca",
        "561ede75",
        "a39222d9",
        "0af368f7",
        "423ff5fe",
        "6670c089",
        "Yd78kYE9X-Nc",
        "40e0e876",
        "1eeb2f0b"
      ],
      "provenance": []
    },
    "kernelspec": {
      "display_name": "Python 3 (ipykernel)",
      "language": "python",
      "name": "python3"
    },
    "language_info": {
      "codemirror_mode": {
        "name": "ipython",
        "version": 3
      },
      "file_extension": ".py",
      "mimetype": "text/x-python",
      "name": "python",
      "nbconvert_exporter": "python",
      "pygments_lexer": "ipython3",
      "version": "3.11.9"
    }
  },
  "nbformat": 4,
  "nbformat_minor": 5
}
